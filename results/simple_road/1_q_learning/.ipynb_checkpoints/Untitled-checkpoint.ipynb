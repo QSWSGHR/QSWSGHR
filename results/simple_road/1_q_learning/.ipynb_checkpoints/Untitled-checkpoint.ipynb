{
 "cells": [
  {
   "cell_type": "code",
   "execution_count": 13,
   "metadata": {},
   "outputs": [
    {
     "name": "stdout",
     "output_type": "stream",
     "text": [
      "   index  no_change  speed_up  speed_up_up  slow_down  slow_down_down  \\\n",
      "0      0  16.260599 -4.828713     0.000000  -6.972393       -6.681809   \n",
      "1     41  -2.313525 -2.354249    -2.326744  -2.327127        0.000000   \n",
      "2     82  -1.550361 -1.593837    -1.562294   0.000000        0.000000   \n",
      "3     53  -1.304675 -1.599827    -1.830016  -1.524323        0.000000   \n",
      "4      6  -2.692636 -2.679611    -2.682386  -2.495541       -2.689538   \n",
      "5     24  -1.992304 -2.043023    -2.120928   0.000000        0.000000   \n",
      "6     25  -1.550361 -1.710621     5.110971  -1.593837        0.000000   \n",
      "7     52  -0.698746  0.323883    -0.672554  -0.746185       -0.799103   \n",
      "8      1  19.455204 -4.126449     0.000000  -5.266228       -6.052717   \n",
      "9     68  -1.076488 -1.154888    -1.690784   0.000000        0.000000   \n",
      "\n",
      "   position  velocity  \n",
      "0       0.0       3.0  \n",
      "1       1.0       1.0  \n",
      "2       1.0       0.0  \n",
      "3       2.0       1.0  \n",
      "4       2.0       2.0  \n",
      "5       2.0       0.0  \n",
      "6       3.0       1.0  \n",
      "7       3.0       2.0  \n",
      "8       3.0       3.0  \n",
      "9       3.0       0.0  \n"
     ]
    }
   ],
   "source": [
    "'''\n",
    "import pandas as pd\n",
    "import pickle\n",
    "import numpy as np\n",
    "import matplotlib.pyplot as plt\n",
    "%matplotlib inline\n",
    "plt.rcParams['figure.figsize'] = (12, 8)\n",
    "plt.style.use('seaborn-deep')\n",
    "'''\n",
    "import pandas as pd\n",
    "\n",
    "# 加载 q_table.pkl 文件\n",
    "q_table = pd.read_pickle('q_table.pkl')\n",
    "\n",
    "# 移动 'velocity' 列到 'position' 列后面\n",
    "cols = list(q_table.columns)\n",
    "cols.insert(cols.index('position') + 1, cols.pop(cols.index('velocity')))\n",
    "q_table = q_table[cols]\n",
    "\n",
    "# 添加 'id' 列\n",
    "q_table.reset_index(inplace=True)\n",
    "\n",
    "# 输出前10行\n",
    "print(q_table.head(10))"
   ]
  },
  {
   "cell_type": "code",
   "execution_count": 5,
   "metadata": {},
   "outputs": [],
   "source": [
    "df = pd.read_pickle(\"q_table.pkl\")"
   ]
  },
  {
   "cell_type": "code",
   "execution_count": 8,
   "metadata": {},
   "outputs": [
    {
     "data": {
      "text/html": [
       "<div>\n",
       "<style scoped>\n",
       "    .dataframe tbody tr th:only-of-type {\n",
       "        vertical-align: middle;\n",
       "    }\n",
       "\n",
       "    .dataframe tbody tr th {\n",
       "        vertical-align: top;\n",
       "    }\n",
       "\n",
       "    .dataframe thead th {\n",
       "        text-align: right;\n",
       "    }\n",
       "</style>\n",
       "<table border=\"1\" class=\"dataframe\">\n",
       "  <thead>\n",
       "    <tr style=\"text-align: right;\">\n",
       "      <th></th>\n",
       "      <th>velocity</th>\n",
       "      <th>position</th>\n",
       "    </tr>\n",
       "  </thead>\n",
       "  <tbody>\n",
       "    <tr>\n",
       "      <th>0</th>\n",
       "      <td>3.0</td>\n",
       "      <td>0.0</td>\n",
       "    </tr>\n",
       "    <tr>\n",
       "      <th>41</th>\n",
       "      <td>1.0</td>\n",
       "      <td>1.0</td>\n",
       "    </tr>\n",
       "    <tr>\n",
       "      <th>85</th>\n",
       "      <td>0.0</td>\n",
       "      <td>1.0</td>\n",
       "    </tr>\n",
       "    <tr>\n",
       "      <th>53</th>\n",
       "      <td>1.0</td>\n",
       "      <td>2.0</td>\n",
       "    </tr>\n",
       "    <tr>\n",
       "      <th>6</th>\n",
       "      <td>2.0</td>\n",
       "      <td>2.0</td>\n",
       "    </tr>\n",
       "    <tr>\n",
       "      <th>24</th>\n",
       "      <td>0.0</td>\n",
       "      <td>2.0</td>\n",
       "    </tr>\n",
       "    <tr>\n",
       "      <th>25</th>\n",
       "      <td>1.0</td>\n",
       "      <td>3.0</td>\n",
       "    </tr>\n",
       "    <tr>\n",
       "      <th>52</th>\n",
       "      <td>2.0</td>\n",
       "      <td>3.0</td>\n",
       "    </tr>\n",
       "    <tr>\n",
       "      <th>1</th>\n",
       "      <td>3.0</td>\n",
       "      <td>3.0</td>\n",
       "    </tr>\n",
       "    <tr>\n",
       "      <th>68</th>\n",
       "      <td>0.0</td>\n",
       "      <td>3.0</td>\n",
       "    </tr>\n",
       "    <tr>\n",
       "      <th>54</th>\n",
       "      <td>0.0</td>\n",
       "      <td>4.0</td>\n",
       "    </tr>\n",
       "    <tr>\n",
       "      <th>42</th>\n",
       "      <td>3.0</td>\n",
       "      <td>4.0</td>\n",
       "    </tr>\n",
       "    <tr>\n",
       "      <th>35</th>\n",
       "      <td>4.0</td>\n",
       "      <td>4.0</td>\n",
       "    </tr>\n",
       "    <tr>\n",
       "      <th>26</th>\n",
       "      <td>1.0</td>\n",
       "      <td>4.0</td>\n",
       "    </tr>\n",
       "    <tr>\n",
       "      <th>57</th>\n",
       "      <td>2.0</td>\n",
       "      <td>4.0</td>\n",
       "    </tr>\n",
       "  </tbody>\n",
       "</table>\n",
       "</div>"
      ],
      "text/plain": [
       "    velocity  position\n",
       "0        3.0       0.0\n",
       "41       1.0       1.0\n",
       "85       0.0       1.0\n",
       "53       1.0       2.0\n",
       "6        2.0       2.0\n",
       "24       0.0       2.0\n",
       "25       1.0       3.0\n",
       "52       2.0       3.0\n",
       "1        3.0       3.0\n",
       "68       0.0       3.0\n",
       "54       0.0       4.0\n",
       "42       3.0       4.0\n",
       "35       4.0       4.0\n",
       "26       1.0       4.0\n",
       "57       2.0       4.0"
      ]
     },
     "execution_count": 8,
     "metadata": {},
     "output_type": "execute_result"
    }
   ],
   "source": [
    "df[['velocity', 'position']].head(15)"
   ]
  },
  {
   "cell_type": "code",
   "execution_count": 9,
   "metadata": {},
   "outputs": [
    {
     "data": {
      "text/plain": [
       "'    no_change  speed_up  speed_up_up  slow_down  slow_down_down  position  velocity\\n0     4.56189  0.897988     0.000000   -2.31611            -6.1       0.0       3.0\\n41   -1.20000  0.761890     0.399890   -4.10000             0.0       1.0       1.0\\n85   -2.10000 -3.200000    -1.238110    0.00000             0.0       1.0       0.0\\n53    0.96189  0.934843     0.863916   -3.20000             0.0       2.0       1.0\\n6     2.94189  2.982100     2.602103   -1.03811            -5.2       2.0       2.0'"
      ]
     },
     "execution_count": 9,
     "metadata": {},
     "output_type": "execute_result"
    }
   ],
   "source": [
    "df.head().to_string()"
   ]
  },
  {
   "cell_type": "code",
   "execution_count": null,
   "metadata": {},
   "outputs": [],
   "source": []
  }
 ],
 "metadata": {
  "anaconda-cloud": {},
  "kernelspec": {
   "display_name": "Python 3 (ipykernel)",
   "language": "python",
   "name": "python3"
  },
  "language_info": {
   "codemirror_mode": {
    "name": "ipython",
    "version": 3
   },
   "file_extension": ".py",
   "mimetype": "text/x-python",
   "name": "python",
   "nbconvert_exporter": "python",
   "pygments_lexer": "ipython3",
   "version": "3.11.7"
  }
 },
 "nbformat": 4,
 "nbformat_minor": 4
}
